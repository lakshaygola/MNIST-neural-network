{
  "nbformat": 4,
  "nbformat_minor": 0,
  "metadata": {
    "accelerator": "GPU",
    "colab": {
      "name": "neural-network-number-image.ipynb",
      "private_outputs": true,
      "provenance": []
    },
    "kernelspec": {
      "display_name": "Python 3",
      "language": "python",
      "name": "python3"
    },
    "language_info": {
      "codemirror_mode": {
        "name": "ipython",
        "version": 3
      },
      "file_extension": ".py",
      "mimetype": "text/x-python",
      "name": "python",
      "nbconvert_exporter": "python",
      "pygments_lexer": "ipython3",
      "version": "3.7.6"
    }
  },
  "cells": [
    {
      "cell_type": "code",
      "metadata": {
        "id": "3DLcC4B3IPbX"
      },
      "source": [
        "# Jovian Commit Essentials\n",
        "# Please retain and execute this cell without modifying the contents for `jovian.commit` to work\n",
        "!pip install jovian --upgrade -q\n",
        "import jovian\n",
        "jovian.utils.colab.set_colab_file_id('1IylB4N87jqhvi6yF4vOE-fg12AjymoCE')"
      ],
      "execution_count": null,
      "outputs": []
    },
    {
      "cell_type": "code",
      "metadata": {
        "id": "YvjXtFd3PVls"
      },
      "source": [
        "project_name= 'neural-network-number-image'"
      ],
      "execution_count": null,
      "outputs": []
    },
    {
      "cell_type": "code",
      "metadata": {
        "id": "Iit2skz9R6Gi"
      },
      "source": [
        "!pip install jovian --upgrade --quiet"
      ],
      "execution_count": null,
      "outputs": []
    },
    {
      "cell_type": "code",
      "metadata": {
        "id": "uH2pkPh9R6Gj"
      },
      "source": [
        "# Importing necessary libraries\r\n",
        "import torch\r\n",
        "import pandas as pd\r\n",
        "import numpy as np\r\n",
        "from torchvision.datasets import MNIST\r\n",
        "import torch.nn.functional as F\r\n",
        "import torch.nn as nn\r\n",
        "import torchvision as t\r\n",
        "import matplotlib.pyplot as plt\r\n",
        "import torchvision.transforms as transform\r\n",
        "from torch.utils.data.dataloader import DataLoader\r\n",
        "from torch.utils.data import random_split\r\n",
        "\r\n",
        "%matplotlib inline"
      ],
      "execution_count": null,
      "outputs": []
    },
    {
      "cell_type": "code",
      "metadata": {
        "id": "STwL7-pqxRk5"
      },
      "source": [
        "# Downloading the dataset\r\n",
        "image_data= MNIST(root= 'C:\\\\Users\\\\L A K S H A Y\\\\Program files\\\\Dataset', download= True, transform= transform.ToTensor())"
      ],
      "execution_count": null,
      "outputs": []
    },
    {
      "cell_type": "code",
      "metadata": {
        "id": "RpRuAWCMxx0K"
      },
      "source": [
        "# Number of enteries (lenght of the dataset)\r\n",
        "len(image_data)"
      ],
      "execution_count": null,
      "outputs": []
    },
    {
      "cell_type": "code",
      "metadata": {
        "id": "_ihFAb9cyl5P"
      },
      "source": [
        "# Creating the training and validation dataset\r\n",
        "train_size= 50000\r\n",
        "val_size= len(image_data)- train_size\r\n",
        "train, valid= random_split(image_data, [train_size, val_size])"
      ],
      "execution_count": null,
      "outputs": []
    },
    {
      "cell_type": "code",
      "metadata": {
        "id": "rL3wKePd1l6y"
      },
      "source": [
        "# Some Image from the dataset\r\n",
        "image, label= image_data[0]\r\n",
        "plt.imshow(image[0], cmap= 'gray')\r\n",
        "print('Label: ', label)"
      ],
      "execution_count": null,
      "outputs": []
    },
    {
      "cell_type": "code",
      "metadata": {
        "id": "8SsK15gW-rvx"
      },
      "source": [
        "# Example 2\r\n",
        "image, label= image_data[100]\r\n",
        "plt.imshow(image[0], cmap='gray')\r\n",
        "print('Label: ', label)"
      ],
      "execution_count": null,
      "outputs": []
    },
    {
      "cell_type": "code",
      "metadata": {
        "id": "UzY7-Mcb_0a_"
      },
      "source": [
        "# Create the data loaders\r\n",
        "train_loader= DataLoader(image_data, batch_size= 125, shuffle= True)\r\n",
        "val_loader= DataLoader(image_data, batch_size= 125*2)                     # We can increase the size of the batch from validation dataset"
      ],
      "execution_count": null,
      "outputs": []
    },
    {
      "cell_type": "code",
      "metadata": {
        "id": "OVB4nt7f--jg"
      },
      "source": [
        "# Making grid of the images in the dataset\r\n",
        "from torchvision.utils import make_grid\r\n",
        "\r\n",
        "for image, label in train_loader:\r\n",
        "  plt.figure(figsize=(10,8))\r\n",
        "  print('image shape: ', image.shape)\r\n",
        "  plt.imshow(make_grid(image, nrow= 15).permute((1,2,0)))\r\n",
        "  break"
      ],
      "execution_count": null,
      "outputs": []
    },
    {
      "cell_type": "code",
      "metadata": {
        "id": "KRuuYPOqHMhq"
      },
      "source": [
        "input_size= 28*28\r\n",
        "hidden_size= 32\r\n",
        "output_size= 10 "
      ],
      "execution_count": null,
      "outputs": []
    },
    {
      "cell_type": "markdown",
      "metadata": {
        "id": "wvpVWDjGPiF1"
      },
      "source": [
        "# Model (neural network)"
      ]
    },
    {
      "cell_type": "code",
      "metadata": {
        "id": "EDjMJqjfPcJY"
      },
      "source": [
        "# In this model we are extending the nn.module \r\n",
        "\r\n",
        "class MNISTModel(nn.Module):\r\n",
        "  def __init__(self, input_size, hidden_size, output_size):              # defining the hidden layer and the output layer of the neural network \r\n",
        "    super().__init__()\r\n",
        "    # 1st layer (Hidden layer)\r\n",
        "    self.layer1= nn.Linear(input_size, hidden_size)\r\n",
        "    # 2nd layer (outputs layer\r\n",
        "    self.layer2= nn.Linear(hidden_size, output_size)\r\n",
        "  \r\n",
        "  # Defing the forward method\r\n",
        "  def forward(self, xb):\r\n",
        "    xb= xb.view(xb.size(0), -1)       # Flatten out the image\r\n",
        "    out= self.layer1(xb)              # Passing the data in 1st layer (Hidden layer)\r\n",
        "    out= F.relu(out)                  # Applying activation function\r\n",
        "    out= self.layer2(out)             # Passing the data in layer 2 of the nerual network\r\n",
        "    return out \r\n",
        "\r\n",
        "  # Training Phase\r\n",
        "  def training_step(self, batch):\r\n",
        "    image, label= batch\r\n",
        "    out= self(image)\r\n",
        "    loss= F.cross_entropy(out, label)\r\n",
        "    return loss\r\n",
        "  \r\n",
        "  # Validation Phase\r\n",
        "  def validation_step(self, batch):\r\n",
        "    image, label= batch\r\n",
        "    out= self(image)\r\n",
        "    loss= F.cross_entropy(out, label)\r\n",
        "    acc= accuracy(out, label)\r\n",
        "    return {'validation_loss': loss, 'validation_accuracy': acc}\r\n",
        "\r\n",
        "  # Combining the validation dataset result\r\n",
        "  def validation_epochend(self, outputs):\r\n",
        "    batch_loss= [x['validation_loss']for x in outputs]\r\n",
        "    epoch_loss= torch.stack(batch_loss).mean()                                                  # Combining losses\r\n",
        "    batch_acc= [x['validation_accuracy']for x in outputs]\r\n",
        "    epoch_acc= torch.stack(batch_acc).mean()                                                   # Combining accuracy\r\n",
        "    return {'validation_loss': epoch_loss.item(), 'validation_accuracy': epoch_acc.item()} \r\n",
        "  \r\n",
        "  # To Print performance of the model\r\n",
        "  def epoch_end(self, epoch, result):\r\n",
        "    print('Epoch [{}], validation loss: {:.4f}, validation accuracy: {:.4f}'.format(epoch, result['validation_loss'], result['validation_accuracy']))"
      ],
      "execution_count": null,
      "outputs": []
    },
    {
      "cell_type": "markdown",
      "metadata": {
        "id": "dHj8mrcYisKQ"
      },
      "source": [
        "# Defining the fit method"
      ]
    },
    {
      "cell_type": "code",
      "metadata": {
        "id": "4c1Phgeq912D"
      },
      "source": [
        "def evaluate(model, val_loader):\r\n",
        "  outputs= [model.validation_step(batch) for batch in val_loader]\r\n",
        "  return model.validation_epochend(outputs)"
      ],
      "execution_count": null,
      "outputs": []
    },
    {
      "cell_type": "code",
      "metadata": {
        "id": "va0mTwBnahNY"
      },
      "source": [
        "def accuracy(outputs, labels):\r\n",
        "  _, preds= torch.max(outputs, dim=1)\r\n",
        "  return torch.tensor(torch.sum(preds == labels).item() / len(labels))\r\n",
        "\r\n",
        "def fit(epochs, lr, model, train_loader, val_loader, opt_func= torch.optim.SGD):\r\n",
        "  result_history= []\r\n",
        "  optimizer= opt_func(model.parameters(), lr)           # Optimizer function\r\n",
        "  \r\n",
        "  for epoch in range(epochs):\r\n",
        "    \r\n",
        "    # Training phase\r\n",
        "    for batch in train_loader : \r\n",
        "      loss= model.training_step(batch)\r\n",
        "      loss.backward()\r\n",
        "      optimizer.step()\r\n",
        "      optimizer.zero_grad()\r\n",
        "    \r\n",
        "    # Validation phase\r\n",
        "    result= evaluate(model, val_loader)\r\n",
        "    model.epoch_end(epoch, result)\r\n",
        "    result_history.append(result)\r\n",
        "\r\n",
        "  return result_history"
      ],
      "execution_count": null,
      "outputs": []
    },
    {
      "cell_type": "markdown",
      "metadata": {
        "id": "VM7UTPINB4yx"
      },
      "source": [
        "# Using GPUs\r\n",
        "Using GPU to train your model faster"
      ]
    },
    {
      "cell_type": "code",
      "metadata": {
        "id": "dk6kuSIwB4Zh"
      },
      "source": [
        "# Checking your model using GPU cuda \r\n",
        "torch.cuda.is_available()"
      ],
      "execution_count": null,
      "outputs": []
    },
    {
      "cell_type": "code",
      "metadata": {
        "id": "8sxALkMcahKw"
      },
      "source": [
        "# Checking which device is available\r\n",
        "def get_device():\r\n",
        "  if torch.cuda.is_available():         # If GPU is available we use GPU\r\n",
        "    return torch.device('cuda')\r\n",
        "  else:\r\n",
        "    return torch.device('cpu')        # Else we will use cpu "
      ],
      "execution_count": null,
      "outputs": []
    },
    {
      "cell_type": "code",
      "metadata": {
        "id": "dZCOxPCnVRSf"
      },
      "source": [
        "device= get_device()\r\n",
        "device"
      ],
      "execution_count": null,
      "outputs": []
    },
    {
      "cell_type": "code",
      "metadata": {
        "id": "tXNCpq7lahHn"
      },
      "source": [
        "# Moving data on available device\r\n",
        "def to_device(data, device):\r\n",
        "  if isinstance(data, (list,tuple)):\r\n",
        "    return [to_device(x,device) for x in data]\r\n",
        "  return data.to(device, non_blocking= True)"
      ],
      "execution_count": null,
      "outputs": []
    },
    {
      "cell_type": "code",
      "metadata": {
        "id": "Ggc4GgpaahEW"
      },
      "source": [
        "# Device data loader to load your data directly on the device which is available\r\n",
        "class DeviceDataLoader():\r\n",
        "  def __init__(self, dataloader, device):\r\n",
        "    # Storing the dataloader object and device in the property of the DeviceDataLoader class\r\n",
        "    self.dl = dataloader\r\n",
        "    self.device= device\r\n",
        "  \r\n",
        "  # __iter__ method to move batch of the data on the given device\r\n",
        "  def __iter__(self):\r\n",
        "    for xb in self.dl:\r\n",
        "      yield to_device(xb, device)\r\n",
        "\r\n",
        "  # __len__ to print out the number of batches\r\n",
        "  def __len__(self):\r\n",
        "    return len(self.dl)"
      ],
      "execution_count": null,
      "outputs": []
    },
    {
      "cell_type": "markdown",
      "metadata": {
        "id": "39mh0vCgUeJa"
      },
      "source": [
        "## Creating the instance of the MNISTModel class or creating model"
      ]
    },
    {
      "cell_type": "code",
      "metadata": {
        "id": "uHgeK6V4Udfj"
      },
      "source": [
        "model= MNISTModel(input_size, hidden_size, output_size)"
      ],
      "execution_count": null,
      "outputs": []
    },
    {
      "cell_type": "code",
      "metadata": {
        "id": "aFnMhBZXX8HB"
      },
      "source": [
        "# Creating traning loader and validation loader on gpu\r\n",
        "train_loader= DeviceDataLoader(train_loader, device)\r\n",
        "val_loader= DeviceDataLoader(val_loader, device) "
      ],
      "execution_count": null,
      "outputs": []
    },
    {
      "cell_type": "code",
      "metadata": {
        "id": "Z3h9c-Wqag9-"
      },
      "source": [
        "# Move this model on GPU\r\n",
        "to_device(model, device)"
      ],
      "execution_count": null,
      "outputs": []
    },
    {
      "cell_type": "code",
      "metadata": {
        "id": "8xP-5eEoXuJi"
      },
      "source": [
        "# Intial accuracy and the loss of the model\r\n",
        "result= [evaluate(model, val_loader)]\r\n",
        "result"
      ],
      "execution_count": null,
      "outputs": []
    },
    {
      "cell_type": "markdown",
      "metadata": {
        "id": "CtKCNcHa0QTe"
      },
      "source": [
        "# Calling fit method to train the model"
      ]
    },
    {
      "cell_type": "code",
      "metadata": {
        "id": "b4h3YZGgxO2c"
      },
      "source": [
        "history1= fit(10,0.1, model, train_loader, val_loader)"
      ],
      "execution_count": null,
      "outputs": []
    },
    {
      "cell_type": "code",
      "metadata": {
        "id": "vQ6I1DqfyExV"
      },
      "source": [
        "history2= fit(5, 0.1, model, train_loader, val_loader)"
      ],
      "execution_count": null,
      "outputs": []
    },
    {
      "cell_type": "code",
      "metadata": {
        "id": "BSfm5w3WyxtD"
      },
      "source": [
        "history3= fit(5, 0.1, model,train_loader, val_loader)"
      ],
      "execution_count": null,
      "outputs": []
    },
    {
      "cell_type": "code",
      "metadata": {
        "id": "UEOPMGsFzGm0"
      },
      "source": [
        "history3= fit(5, 0.1, model,train_loader, val_loader)"
      ],
      "execution_count": null,
      "outputs": []
    },
    {
      "cell_type": "code",
      "metadata": {
        "id": "Fg78p0fV-LyP"
      },
      "source": [
        "history4= fit(5, 0.1, model,train_loader, val_loader)"
      ],
      "execution_count": null,
      "outputs": []
    },
    {
      "cell_type": "code",
      "metadata": {
        "id": "69WD9TH8Efoj"
      },
      "source": [
        "jovian.commit(project= project_name, environment= None)"
      ],
      "execution_count": null,
      "outputs": []
    },
    {
      "cell_type": "markdown",
      "metadata": {
        "id": "oUk4pKVzIV8P"
      },
      "source": [
        "# Apply model on test data"
      ]
    },
    {
      "cell_type": "code",
      "metadata": {
        "id": "hVdaoBEeIUI9"
      },
      "source": [
        "# Download the test dataset\r\n",
        "test_image= MNIST(root= 'C:\\\\Users\\\\L A K S H A Y\\\\Program files\\\\Dataset', train= False, transform= transform.ToTensor())"
      ],
      "execution_count": null,
      "outputs": []
    },
    {
      "cell_type": "code",
      "metadata": {
        "id": "tl42w5W3UmLV"
      },
      "source": [
        "# Example 1\r\n",
        "image,label= test_image[0]\r\n",
        "plt.imshow(image[0], cmap= 'gray')\r\n",
        "print('Label: ',label)"
      ],
      "execution_count": null,
      "outputs": []
    },
    {
      "cell_type": "code",
      "metadata": {
        "id": "NhI6Bdm0JVLo"
      },
      "source": [
        "# Function to predict the label of the image\r\n",
        "def predict_imagelabel(image, model):\r\n",
        "  xb= to_device(image.unsqueeze(0), device)\r\n",
        "  yb= model(xb)\r\n",
        "  _, pred= torch.max(yb, dim=1)\r\n",
        "  return pred[0].item()"
      ],
      "execution_count": null,
      "outputs": []
    },
    {
      "cell_type": "code",
      "metadata": {
        "id": "m_iGvWBWMJii"
      },
      "source": [
        "# Generating the prediction from the image in test data\r\n",
        "image, label= test_image[0]\r\n",
        "plt.imshow(image[0], cmap= 'gray')\r\n",
        "print('Label : ', label, 'Predicted value : ', predict_imagelabel(image, model))"
      ],
      "execution_count": null,
      "outputs": []
    },
    {
      "cell_type": "code",
      "metadata": {
        "id": "HuzY0dymXsCN"
      },
      "source": [
        "# Example 2\r\n",
        "image, label= test_image[182]\r\n",
        "plt.imshow(image[0], cmap= 'gray')\r\n",
        "print('Label : ', label, 'Predicted value : ', predict_imagelabel(image, model))"
      ],
      "execution_count": null,
      "outputs": []
    },
    {
      "cell_type": "code",
      "metadata": {
        "id": "bUY6cnVNXzTN"
      },
      "source": [
        "# Example 3\r\n",
        "image, label= test_image[1820]\r\n",
        "plt.imshow(image[0], cmap= 'gray')\r\n",
        "print('Label : ', label, 'Predicted value : ', predict_imagelabel(image, model))"
      ],
      "execution_count": null,
      "outputs": []
    },
    {
      "cell_type": "code",
      "metadata": {
        "id": "ryhXJXHFX55V"
      },
      "source": [
        "# Example 4\r\n",
        "image, label= test_image[8220]\r\n",
        "plt.imshow(image[0], cmap= 'gray')\r\n",
        "print('Label : ', label, 'Predicted value : ', predict_imagelabel(image, model))"
      ],
      "execution_count": null,
      "outputs": []
    },
    {
      "cell_type": "markdown",
      "metadata": {
        "id": "1TeYEOLoyVBl"
      },
      "source": [
        "# Analysis the model using test data"
      ]
    },
    {
      "cell_type": "code",
      "metadata": {
        "id": "RKlHOMbGURVu"
      },
      "source": [
        "# Taking the accuracy and loss of the model on test dataset\r\n",
        "test_loader= DeviceDataLoader(DataLoader(test_image, batch_size= 256), device)\r\n",
        "result= evaluate(model, test_loader)\r\n",
        "result"
      ],
      "execution_count": null,
      "outputs": []
    },
    {
      "cell_type": "code",
      "metadata": {
        "id": "Z6fj8DY4YBVt"
      },
      "source": [
        "# Saving validation loss and accuracy of the model \r\n",
        "jovian.log_metrics(test_loss= result['validation_loss'], test_accuracy= result['validation_accuracy'])"
      ],
      "execution_count": null,
      "outputs": []
    },
    {
      "cell_type": "code",
      "metadata": {
        "id": "gWNuWlLlyxFD"
      },
      "source": [
        "# Saving weight and bias of the model\r\n",
        "torch.save(model.state_dict, 'mnist-neural.pth')"
      ],
      "execution_count": null,
      "outputs": []
    },
    {
      "cell_type": "code",
      "metadata": {
        "id": "A_e2-1nJzOsC"
      },
      "source": [
        "# Saving notebook on jovian platform\r\n",
        "jovian.commit(project= project_name, environment=None, outputs= ['mnist-neural.pth'])"
      ],
      "execution_count": null,
      "outputs": []
    },
    {
      "cell_type": "code",
      "metadata": {
        "id": "Jl_iZJ6JzguM"
      },
      "source": [
        ""
      ],
      "execution_count": null,
      "outputs": []
    }
  ]
}